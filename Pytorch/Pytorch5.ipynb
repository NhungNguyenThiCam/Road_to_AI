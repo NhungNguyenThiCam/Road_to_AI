{
  "nbformat": 4,
  "nbformat_minor": 0,
  "metadata": {
    "colab": {
      "provenance": [],
      "gpuType": "T4"
    },
    "kernelspec": {
      "name": "python3",
      "display_name": "Python 3"
    },
    "language_info": {
      "name": "python"
    },
    "accelerator": "GPU"
  },
  "cells": [
    {
      "cell_type": "code",
      "source": [
        "!nvidia-smi"
      ],
      "metadata": {
        "colab": {
          "base_uri": "https://localhost:8080/"
        },
        "id": "IDeMsDUFoxf4",
        "outputId": "fae89d94-5119-41a6-9379-fc75d9207425"
      },
      "execution_count": 1,
      "outputs": [
        {
          "output_type": "stream",
          "name": "stdout",
          "text": [
            "Wed Sep 11 15:11:06 2024       \n",
            "+---------------------------------------------------------------------------------------+\n",
            "| NVIDIA-SMI 535.104.05             Driver Version: 535.104.05   CUDA Version: 12.2     |\n",
            "|-----------------------------------------+----------------------+----------------------+\n",
            "| GPU  Name                 Persistence-M | Bus-Id        Disp.A | Volatile Uncorr. ECC |\n",
            "| Fan  Temp   Perf          Pwr:Usage/Cap |         Memory-Usage | GPU-Util  Compute M. |\n",
            "|                                         |                      |               MIG M. |\n",
            "|=========================================+======================+======================|\n",
            "|   0  Tesla T4                       Off | 00000000:00:04.0 Off |                    0 |\n",
            "| N/A   38C    P8               9W /  70W |      0MiB / 15360MiB |      0%      Default |\n",
            "|                                         |                      |                  N/A |\n",
            "+-----------------------------------------+----------------------+----------------------+\n",
            "                                                                                         \n",
            "+---------------------------------------------------------------------------------------+\n",
            "| Processes:                                                                            |\n",
            "|  GPU   GI   CI        PID   Type   Process name                            GPU Memory |\n",
            "|        ID   ID                                                             Usage      |\n",
            "|=======================================================================================|\n",
            "|  No running processes found                                                           |\n",
            "+---------------------------------------------------------------------------------------+\n"
          ]
        }
      ]
    },
    {
      "cell_type": "code",
      "execution_count": 2,
      "metadata": {
        "colab": {
          "base_uri": "https://localhost:8080/"
        },
        "id": "pQi2lLEEm5Aw",
        "outputId": "24be85a6-1202-486c-e04b-c39785ac3077"
      },
      "outputs": [
        {
          "output_type": "execute_result",
          "data": {
            "text/plain": [
              "True"
            ]
          },
          "metadata": {},
          "execution_count": 2
        }
      ],
      "source": [
        "import torch\n",
        "torch.cuda.is_available()"
      ]
    },
    {
      "cell_type": "code",
      "source": [
        "device=\"cuda\" if torch.cuda.is_available() else \"cpu\"\n",
        "device"
      ],
      "metadata": {
        "colab": {
          "base_uri": "https://localhost:8080/",
          "height": 36
        },
        "id": "zlscpZSnp5oE",
        "outputId": "c0bc73ee-c4d4-40ff-c4c7-dfc553dae8ea"
      },
      "execution_count": 3,
      "outputs": [
        {
          "output_type": "execute_result",
          "data": {
            "text/plain": [
              "'cuda'"
            ],
            "application/vnd.google.colaboratory.intrinsic+json": {
              "type": "string"
            }
          },
          "metadata": {},
          "execution_count": 3
        }
      ]
    },
    {
      "cell_type": "code",
      "source": [
        "torch.cuda.device_count()"
      ],
      "metadata": {
        "colab": {
          "base_uri": "https://localhost:8080/"
        },
        "id": "qc2BaPxuqv-c",
        "outputId": "17c9660a-43c5-4e0c-85b7-8b2ca23341f4"
      },
      "execution_count": 4,
      "outputs": [
        {
          "output_type": "execute_result",
          "data": {
            "text/plain": [
              "1"
            ]
          },
          "metadata": {},
          "execution_count": 4
        }
      ]
    },
    {
      "cell_type": "code",
      "source": [
        "tensor=torch.tensor([1,2,3],device=\"cpu\")\n",
        "print(tensor,tensor.device)\n"
      ],
      "metadata": {
        "colab": {
          "base_uri": "https://localhost:8080/"
        },
        "id": "vhkWwxDYriTf",
        "outputId": "0f72d7ab-1182-4dba-f750-50367a65ba46"
      },
      "execution_count": 5,
      "outputs": [
        {
          "output_type": "stream",
          "name": "stdout",
          "text": [
            "tensor([1, 2, 3]) cpu\n"
          ]
        }
      ]
    },
    {
      "cell_type": "code",
      "source": [
        "tensor_on_gpu=tensor.to(device)\n",
        "tensor_on_gpu"
      ],
      "metadata": {
        "colab": {
          "base_uri": "https://localhost:8080/"
        },
        "id": "dVxEurRSr4g_",
        "outputId": "6eaf520b-c71c-4851-dde0-7fd68d38d2dc"
      },
      "execution_count": 6,
      "outputs": [
        {
          "output_type": "execute_result",
          "data": {
            "text/plain": [
              "tensor([1, 2, 3], device='cuda:0')"
            ]
          },
          "metadata": {},
          "execution_count": 6
        }
      ]
    },
    {
      "cell_type": "code",
      "source": [
        "tensor_back_on_cpu=tensor_on_gpu.cpu().numpy()\n",
        "tensor_back_on_cpu"
      ],
      "metadata": {
        "colab": {
          "base_uri": "https://localhost:8080/"
        },
        "id": "OjIroOFQsz9C",
        "outputId": "54192f0a-bc6e-4c0e-b9ea-b07b1a2009b9"
      },
      "execution_count": 7,
      "outputs": [
        {
          "output_type": "execute_result",
          "data": {
            "text/plain": [
              "array([1, 2, 3])"
            ]
          },
          "metadata": {},
          "execution_count": 7
        }
      ]
    },
    {
      "cell_type": "code",
      "source": [
        "##Create random tensor with shape (7,7)\n",
        "tensor_rand=torch.rand(7,7)\n",
        "tensor_rand"
      ],
      "metadata": {
        "colab": {
          "base_uri": "https://localhost:8080/"
        },
        "id": "qmvrfSCfuT9s",
        "outputId": "455926dc-08a9-4f82-ba90-d1e27ef851cd"
      },
      "execution_count": 16,
      "outputs": [
        {
          "output_type": "execute_result",
          "data": {
            "text/plain": [
              "tensor([[0.0015, 0.7733, 0.4167, 0.9328, 0.1896, 0.2292, 0.6716],\n",
              "        [0.3913, 0.4299, 0.5088, 0.8303, 0.9248, 0.1632, 0.5355],\n",
              "        [0.6946, 0.7051, 0.6494, 0.2676, 0.7523, 0.1380, 0.4609],\n",
              "        [0.3721, 0.2810, 0.5663, 0.5970, 0.4305, 0.8135, 0.0472],\n",
              "        [0.5538, 0.0174, 0.9834, 0.3068, 0.5763, 0.8876, 0.3781],\n",
              "        [0.2420, 0.3727, 0.2562, 0.0907, 0.3662, 0.8624, 0.1109],\n",
              "        [0.0068, 0.2149, 0.6208, 0.2695, 0.3581, 0.8137, 0.8675]])"
            ]
          },
          "metadata": {},
          "execution_count": 16
        }
      ]
    },
    {
      "cell_type": "code",
      "source": [
        "tensor_rand1=torch.rand(1,7)\n",
        "tensor_rand1"
      ],
      "metadata": {
        "colab": {
          "base_uri": "https://localhost:8080/"
        },
        "id": "64p4AXCEunq6",
        "outputId": "16e267a9-d3a5-488b-9ef5-94c8a91cc484"
      },
      "execution_count": 17,
      "outputs": [
        {
          "output_type": "execute_result",
          "data": {
            "text/plain": [
              "tensor([[0.3209, 0.5110, 0.6942, 0.1116, 0.6709, 0.0225, 0.2372]])"
            ]
          },
          "metadata": {},
          "execution_count": 17
        }
      ]
    },
    {
      "cell_type": "code",
      "source": [
        "mul=torch.matmul(tensor_rand,tensor_rand1.T)\n",
        "mul.shape"
      ],
      "metadata": {
        "colab": {
          "base_uri": "https://localhost:8080/"
        },
        "id": "H3pGy5kauqfg",
        "outputId": "abd7707a-ff61-461a-9148-f1e4f064912d"
      },
      "execution_count": 18,
      "outputs": [
        {
          "output_type": "execute_result",
          "data": {
            "text/plain": [
              "torch.Size([7, 1])"
            ]
          },
          "metadata": {},
          "execution_count": 18
        }
      ]
    },
    {
      "cell_type": "code",
      "source": [
        "random_seed=0\n",
        "generator=torch.Generator().manual_seed(random_seed)\n",
        "tensor_rand=torch.rand((7,7))\n",
        "tensor_rand"
      ],
      "metadata": {
        "colab": {
          "base_uri": "https://localhost:8080/"
        },
        "id": "4tgMoN0ZvNlz",
        "outputId": "acc4552e-54cd-4e3d-acad-070d3b4f88b4"
      },
      "execution_count": 19,
      "outputs": [
        {
          "output_type": "execute_result",
          "data": {
            "text/plain": [
              "tensor([[0.2727, 0.1906, 0.0321, 0.6469, 0.0124, 0.1235, 0.2176],\n",
              "        [0.1680, 0.9424, 0.0998, 0.6423, 0.8512, 0.5932, 0.2724],\n",
              "        [0.1846, 0.1344, 0.5678, 0.8397, 0.5161, 0.2136, 0.2377],\n",
              "        [0.4883, 0.2229, 0.3665, 0.2589, 0.3289, 0.5603, 0.1249],\n",
              "        [0.0230, 0.1016, 0.2727, 0.9338, 0.6080, 0.0976, 0.8046],\n",
              "        [0.2377, 0.6005, 0.5223, 0.5641, 0.5434, 0.2178, 0.7981],\n",
              "        [0.6808, 0.7185, 0.3802, 0.8369, 0.5108, 0.7288, 0.5120]])"
            ]
          },
          "metadata": {},
          "execution_count": 19
        }
      ]
    },
    {
      "cell_type": "code",
      "source": [
        "tensor_rand2=torch.rand((1,7))\n",
        "tensor_rand2\n",
        "mul=torch.matmul(tensor_rand,tensor_rand2.T)\n",
        "mul"
      ],
      "metadata": {
        "colab": {
          "base_uri": "https://localhost:8080/"
        },
        "id": "Dvz9DESDwKUv",
        "outputId": "71530401-f354-4c61-c5e3-36900c1781fd"
      },
      "execution_count": 22,
      "outputs": [
        {
          "output_type": "execute_result",
          "data": {
            "text/plain": [
              "tensor([[1.0216],\n",
              "        [1.2811],\n",
              "        [1.5288],\n",
              "        [1.1219],\n",
              "        [1.7328],\n",
              "        [1.7617],\n",
              "        [2.1844]])"
            ]
          },
          "metadata": {},
          "execution_count": 22
        }
      ]
    },
    {
      "cell_type": "code",
      "source": [
        "import torch\n",
        "torch.cuda.manual_seed(1234)"
      ],
      "metadata": {
        "id": "rnyM3ENUwea6"
      },
      "execution_count": 24,
      "outputs": []
    },
    {
      "cell_type": "code",
      "source": [
        "torch.cuda.manual_seed(1234)\n",
        "ran_seed=torch.rand(2,3)\n",
        "ran_seed2=torch.rand(2,3)\n",
        "\n",
        "ran_seed2=ran_seed2.to(device)\n",
        "ran_seed2\n",
        "ran_seed=ran_seed.to(device)\n",
        "ran_seed"
      ],
      "metadata": {
        "colab": {
          "base_uri": "https://localhost:8080/"
        },
        "id": "uCnOkYy7w87w",
        "outputId": "733bfc16-76af-4940-8a72-0b9a3444a7da"
      },
      "execution_count": 29,
      "outputs": [
        {
          "output_type": "execute_result",
          "data": {
            "text/plain": [
              "tensor([[0.0672, 0.1977, 0.2200],\n",
              "        [0.8793, 0.4251, 0.8037]], device='cuda:0')"
            ]
          },
          "metadata": {},
          "execution_count": 29
        }
      ]
    },
    {
      "cell_type": "code",
      "source": [
        "mul=torch.matmul(ran_seed,ran_seed2.T)\n",
        "mul"
      ],
      "metadata": {
        "colab": {
          "base_uri": "https://localhost:8080/"
        },
        "id": "nOp9ZzOZy9V2",
        "outputId": "177ed02c-6add-4ae9-b43c-fa4ded6bcc1f"
      },
      "execution_count": 30,
      "outputs": [
        {
          "output_type": "execute_result",
          "data": {
            "text/plain": [
              "tensor([[0.3373, 0.2671],\n",
              "        [1.5903, 1.1299]], device='cuda:0')"
            ]
          },
          "metadata": {},
          "execution_count": 30
        }
      ]
    },
    {
      "cell_type": "code",
      "source": [
        "mul.max(),mul.min()"
      ],
      "metadata": {
        "colab": {
          "base_uri": "https://localhost:8080/"
        },
        "id": "kCapdF_ezD39",
        "outputId": "580a42f8-d33e-4116-d0c9-61d8341b452c"
      },
      "execution_count": 31,
      "outputs": [
        {
          "output_type": "execute_result",
          "data": {
            "text/plain": [
              "(tensor(1.5903, device='cuda:0'), tensor(0.2671, device='cuda:0'))"
            ]
          },
          "metadata": {},
          "execution_count": 31
        }
      ]
    },
    {
      "cell_type": "code",
      "source": [
        "random_seed=7\n",
        "tensor_rand=torch.rand(1,1,1,10) # This creates a 4-dimensional tensor\n",
        "torch.manual_seed(random_seed)\n",
        "new_tensor=tensor_rand[0][0][0][:] # Access elements from tensor_rand\n",
        "new_tensor, new_tensor.size"
      ],
      "metadata": {
        "colab": {
          "base_uri": "https://localhost:8080/"
        },
        "id": "JzeFIjf335JJ",
        "outputId": "3ab4008f-0294-4c20-8db2-0ab15349f3d6"
      },
      "execution_count": 35,
      "outputs": [
        {
          "output_type": "execute_result",
          "data": {
            "text/plain": [
              "(tensor([0.5349, 0.1988, 0.6592, 0.6569, 0.2328, 0.4251, 0.2071, 0.6297, 0.3653,\n",
              "         0.8513]),\n",
              " <function Tensor.size>)"
            ]
          },
          "metadata": {},
          "execution_count": 35
        }
      ]
    }
  ]
}